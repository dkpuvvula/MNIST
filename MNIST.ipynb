{
  "nbformat": 4,
  "nbformat_minor": 0,
  "metadata": {
    "colab": {
      "name": "MNIST.ipynb",
      "provenance": [],
      "collapsed_sections": []
    },
    "kernelspec": {
      "name": "python3",
      "display_name": "Python 3"
    },
    "language_info": {
      "name": "python"
    }
  },
  "cells": [
    {
      "cell_type": "code",
      "metadata": {
        "id": "XUhAuRNw3-pa",
        "colab": {
          "base_uri": "https://localhost:8080/",
          "height": 312
        },
        "outputId": "de0331a9-559d-433d-ccad-7ef142cc9d4f"
      },
      "source": [
       
        "## Feed Forward\n",
        "# 1) Design model (input,output size, forward pass)    \n",
        "# 2) construct loss and optimizer\n",
        "# 3) Training loop\n",
        "#       - Forward pass : compute prediction and loss\n",
        "#       - Backward pass : gradients\n",
        "#       - update weights\n",
        "#MNIST\n",
        "#will use Data Loader adn Transformation\n",
        "#Mulit layer nueral net, activation function\n",
        "#loss ans optimizer\n",
        "#Training loop(batch training)\n",
        "#model evaluation\n",
        "import torch\n",
        "import torch.nn as nn\n",
        "import torchvision\n",
        "import torchvision.datasets as datasets\n",
        "from torch.utils.data import DataLoader\n",
        "import torchvision.transforms as transforms\n",
        "import matplotlib.pyplot as plt\n",
        "\n",
        "training_data = torchvision.datasets.MNIST(root='./data', \n",
        "                                           train=True, \n",
        "                                           transform=transforms.ToTensor(),  \n",
        "                                           download=True)\n",
        "\n",
        "test_data = torchvision.datasets.MNIST(root='./data', \n",
        "                                          train=False, \n",
        "                                          transform=transforms.ToTensor())\n",
        "train_dataloader = torch.utils.data.DataLoader(training_data, batch_size=100, shuffle=True)\n",
        "test_dataloader = torch.utils.data.DataLoader(test_data, batch_size=100, shuffle=False)\n",
        "print(len(training_data))\n",
        "print(len(test_data))\n",
        "print(len(train_dataloader))\n",
        "print(len(test_dataloader))\n",
        "input_size=784\n",
        "middle=500\n",
        "middle1=500\n",
        "classes = 10\n",
        "num_epochs = 4\n",
        "#to show data\n",
        "examples = iter(test_dataloader)\n",
        "example_data, example_targets = examples.next()\n",
        "\n",
        "for i in range(10):\n",
        "    plt.subplot(2,5,i+1)\n",
        "    plt.imshow(example_data[i][0], cmap='gray')\n",
        "plt.show()\n",
        "class LinearRegression(nn.Module):\n",
        "  def __init__(self,input_size,middle,classes):\n",
        "    super(LinearRegression,self) .__init__()\n",
        "    self.linear1=nn.Linear(input_size,middle)\n",
        "    self.relu= torch.nn.functional.relu\n",
        "    self.linear2=nn.Linear(middle,middle1)\n",
        "    self.relu= torch.nn.functional.relu\n",
        "    self.linear2=nn.Linear(middle1,classes)\n",
        "\n",
        "  def forward(self,x):\n",
        "    out=self.linear1(x)\n",
        "    out=self.relu(out)\n",
        "    out=self.linear2(out)\n",
        "    return out\n",
        "model = LinearRegression(input_size,middle,classes)\n",
        "criterion = nn.CrossEntropyLoss()\n",
        "optimizer= torch.optim.Adam(model.parameters(),lr=0.001)\n",
        "\n",
        "for epochs in range(num_epochs):\n",
        "  for i, (images, labels) in enumerate(train_dataloader):\n",
        "   images = images.reshape(-1, 28*28)\n",
        "   optimizer.zero_grad()\n",
        "   outputs = model(images)\n",
        "   loss= criterion(outputs,labels)\n",
        "   loss.backward()\n",
        "   optimizer.step()\n",
        "   if (i+1)%100 ==0:\n",
        "    print (f'Epoch [{epoch+1}/{num_epochs}], Step [{i+1}/{n_total_steps}], Loss: {loss.item():.4f}')\n",
        "# test data\n",
        "with torch.no_grad():\n",
        "    n_correct = 0\n",
        "    n_samples = 0\n",
        "    for images, labels in test_dataloader:\n",
        "        images = images.reshape(-1, 28*28)\n",
        "        outputs = model(images)\n",
        "        # max returns (value ,index)\n",
        "        _, predicted = torch.max(outputs.data, 1)\n",
        "        n_samples += labels.size(0)\n",
        "        n_correct += (predicted == labels).sum().item()\n",
        "\n",
        "    acc = 100.0 * n_correct / n_samples\n",
        "    print(f'Accuracy of the network on the 10000 test images: {acc} %')\n",
        "\n",
        "\n",
        "\n",
        "\n",
        "\n",
        "\n",
        "\n",
        "\n",
        "\n",
        "\n"
      ],
      "execution_count": null,
      "outputs": [
        {
          "output_type": "stream",
          "text": [
            "60000\n",
            "10000\n",
            "600\n",
            "100\n"
          ],
          "name": "stdout"
        },
        {
          "output_type": "display_data",
          "data": {
            "image/png": "[encoded data removed]",
            "text/plain": [
              "<Figure size 432x288 with 10 Axes>"
            ]
          },
          "metadata": {
            "tags": [],
            "needs_background": "light"
          }
        },
        {
          "output_type": "stream",
          "text": [
            "Accuracy of the network on the 10000 test images: 97.81 %\n"
          ],
          "name": "stdout"
        }
      ]
    },
    {
      "cell_type": "code",
      "metadata": {
        "id": "3MfibHsK81FO"
      },
      "source": [
        ""
      ],
      "execution_count": null,
      "outputs": []
    }
  ]
}
